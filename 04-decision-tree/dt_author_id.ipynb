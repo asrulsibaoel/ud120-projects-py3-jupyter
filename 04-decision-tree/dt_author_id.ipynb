{
 "cells": [
  {
   "cell_type": "markdown",
   "metadata": {},
   "source": [
    "# This is the code to accompany the Lesson 3 (decision tree) mini-project\n",
    "\n",
    "### Use a Decision Tree to identify emails from the Enron corpus by author:\n",
    "\n",
    "- Sara has label `0`\n",
    "- Chris has label `1`"
   ]
  },
  {
   "cell_type": "code",
   "execution_count": null,
   "metadata": {},
   "outputs": [],
   "source": [
    "import sys\n",
    "from time import time\n",
    "sys.path.append('../utils/')\n",
    "\n",
    "from email_preprocess import preprocess"
   ]
  },
  {
   "cell_type": "markdown",
   "metadata": {},
   "source": [
    "- `features_train` and `features_test` are the features for the training and testing datasets, respectively\n",
    "- `labels_train` and `labels_test` are the corresponding item labels"
   ]
  },
  {
   "cell_type": "code",
   "execution_count": null,
   "metadata": {},
   "outputs": [],
   "source": [
    "features_train, features_test, labels_train, labels_test = preprocess()"
   ]
  },
  {
   "cell_type": "code",
   "execution_count": null,
   "metadata": {},
   "outputs": [],
   "source": [
    "features_train = features_train[:int(len(features_train)/100)]\n",
    "labels_train = labels_train[:int(len(labels_train)/100)]"
   ]
  },
  {
   "cell_type": "markdown",
   "metadata": {},
   "source": [
    "## ↓↓↓ Your Code Goes Here ↓↓↓"
   ]
  },
  {
   "cell_type": "code",
   "execution_count": null,
   "metadata": {},
   "outputs": [],
   "source": [
    "from sklearn.tree import DecisionTreeClassifier\n",
    "import time\n",
    "\n",
    "def train_model(train_x, train_y):\n",
    "    clf = DecisionTreeClassifier()\n",
    "    t0 = time.time()\n",
    "    clf.fit(train_x, train_y)\n",
    "    t1 = time.time()\n",
    "\n",
    "    print(\"Training time:\", t1 - t0, \"seconds\")\n",
    "    \n",
    "    return clf\n"
   ]
  },
  {
   "cell_type": "code",
   "execution_count": null,
   "metadata": {},
   "outputs": [],
   "source": [
    "def predict(model, data):\n",
    "    t0 = time.time()\n",
    "    prediction = model.predict(data)\n",
    "    t1 = time.time()\n",
    "    print(\"Predicted Labels\", prediction)\n",
    "    print(\"Time to predict:\", t1 - t0, \"seconds\")\n",
    "    return prediction"
   ]
  },
  {
   "cell_type": "code",
   "execution_count": null,
   "metadata": {},
   "outputs": [],
   "source": [
    "from sklearn.metrics import accuracy_score\n",
    "\n",
    "def measure_accuracy(predicted_label, test_label):\n",
    "    accuracy = accuracy_score(predicted_label, test_label)\n",
    "    print(\"Accuracy score:\", accuracy)"
   ]
  }
 ],
 "metadata": {
  "kernelspec": {
   "display_name": "Python 3",
   "language": "python",
   "name": "python3"
  },
  "language_info": {
   "codemirror_mode": {
    "name": "ipython",
    "version": 3
   },
   "file_extension": ".py",
   "mimetype": "text/x-python",
   "name": "python",
   "nbconvert_exporter": "python",
   "pygments_lexer": "ipython3",
   "version": "3.8.5"
  }
 },
 "nbformat": 4,
 "nbformat_minor": 4
}
