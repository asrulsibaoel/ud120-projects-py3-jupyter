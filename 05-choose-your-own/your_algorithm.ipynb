{
 "cells": [
  {
   "cell_type": "code",
   "execution_count": 1,
   "metadata": {},
   "outputs": [],
   "source": [
    "import matplotlib.pyplot as plt\n",
    "\n",
    "from prep_terrain_data import make_terrain_data\n",
    "from class_vis import pretty_picture"
   ]
  },
  {
   "cell_type": "code",
   "execution_count": 2,
   "metadata": {},
   "outputs": [],
   "source": [
    "features_train, labels_train, features_test, labels_test = make_terrain_data()"
   ]
  },
  {
   "cell_type": "markdown",
   "metadata": {},
   "source": [
    "the training data (`features_train`, `labels_train`) have both `\"fast\"` and `\"slow\"` points mixed together --- separate them so we can give them different colors in the scatterplot and identify them visually"
   ]
  },
  {
   "cell_type": "code",
   "execution_count": 3,
   "metadata": {},
   "outputs": [
    {
     "data": {
      "text/plain": [
       "([[0.6394267984578837, 0.09935462460613032],\n",
       "  [0.025010755222666936, 0.6856802654812854],\n",
       "  [0.27502931836911926, 0.5444658614821449],\n",
       "  [0.22321073814882275, 0.9778425294520467],\n",
       "  [0.7364712141640124, 0.35867384121231793],\n",
       "  [0.6766994874229113, 0.3981396427443731],\n",
       "  [0.8921795677048454, 0.18980856216107955],\n",
       "  [0.08693883262941615, 0.12215971908726375],\n",
       "  [0.4219218196852704, 0.848033188463681],\n",
       "  [0.029797219438070344, 0.45471736857051714]],\n",
       " [0, 0, 0, 1.0, 1, 1, 1.0, 0, 1.0, 0])"
      ]
     },
     "execution_count": 3,
     "metadata": {},
     "output_type": "execute_result"
    }
   ],
   "source": [
    "features_train[:10], labels_train[:10]"
   ]
  },
  {
   "cell_type": "code",
   "execution_count": 4,
   "metadata": {},
   "outputs": [],
   "source": [
    "grade_fast = [features_train[ii][0] for ii in range(0, len(features_train)) if labels_train[ii] == 0]\n",
    "bumpy_fast = [features_train[ii][1] for ii in range(0, len(features_train)) if labels_train[ii] == 0]\n",
    "grade_slow = [features_train[ii][0] for ii in range(0, len(features_train)) if labels_train[ii] == 1]\n",
    "bumpy_slow = [features_train[ii][1] for ii in range(0, len(features_train)) if labels_train[ii] == 1]"
   ]
  },
  {
   "cell_type": "markdown",
   "metadata": {},
   "source": [
    "initial visualization"
   ]
  },
  {
   "cell_type": "code",
   "execution_count": 5,
   "metadata": {},
   "outputs": [
    {
     "data": {
      "image/png": "[encoded data removed]",
      "text/plain": [
       "<Figure size 432x288 with 1 Axes>"
      ]
     },
     "metadata": {
      "needs_background": "light"
     },
     "output_type": "display_data"
    }
   ],
   "source": [
    "plt.xlim(0.0, 1.0)\n",
    "plt.ylim(0.0, 1.0)\n",
    "plt.scatter(bumpy_fast, grade_fast, color = \"b\", label=\"fast\")\n",
    "plt.scatter(grade_slow, bumpy_slow, color = \"r\", label=\"slow\")\n",
    "plt.legend()\n",
    "plt.xlabel(\"bumpiness\")\n",
    "plt.ylabel(\"grade\")\n",
    "plt.show()"
   ]
  },
  {
   "cell_type": "markdown",
   "metadata": {},
   "source": [
    "## ↓↓↓ Your Code Goes Here ↓↓↓"
   ]
  },
  {
   "cell_type": "markdown",
   "metadata": {},
   "source": [
    "name your classifier object `clf` if you want the visualization code `pretty_picture` to show you the decision boundary"
   ]
  },
  {
   "cell_type": "code",
   "execution_count": 6,
   "metadata": {},
   "outputs": [],
   "source": [
    "import time\n",
    "\n",
    "from sklearn.svm import SVC\n",
    "from sklearn.naive_bayes import GaussianNB\n",
    "from sklearn.tree import DecisionTreeClassifier\n",
    "from sklearn.metrics import accuracy_score\n",
    "from sklearn.neighbors import KNeighborsClassifier\n",
    "from sklearn.ensemble import RandomForestClassifier, AdaBoostClassifier\n",
    "\n",
    "from typing import Union, List\n",
    "\n",
    "\n",
    "class Model:\n",
    "    \n",
    "    def __init__(self, model_type: str = 'knn', **hyparams: Union[str, int, float]):\n",
    "        \n",
    "        if model_type == 'knn':\n",
    "            self.clf = KNeighborsClassifier(**hyparams)\n",
    "        elif model_type == 'rfc':\n",
    "            self.clf = RandomForestClassifier(**hyparams)\n",
    "        elif model_type == 'abc':\n",
    "            self.clf = AdaBoostClassifier(**hyparams)\n",
    "        else:\n",
    "            raise ValueError('Your choosen model are not recognized or currently not supported yet.')\n",
    "\n",
    "    def train(self, train_x: List[List[float]], train_y: List[float]):\n",
    "        t0 = time.time()\n",
    "        self.clf.fit(train_x, train_y)\n",
    "        t1 = time.time()\n",
    "\n",
    "        print(\"Training time:\", t1 - t0, \"seconds\")\n",
    "\n",
    "        return self.clf\n",
    "    \n",
    "    def predict(self, data):\n",
    "        t0 = time.time()\n",
    "        prediction = self.clf.predict(data)\n",
    "        t1 = time.time()\n",
    "        print(\"Predicted Labels\", prediction)\n",
    "        print(\"Time to predict:\", t1 - t0, \"seconds\")\n",
    "        return prediction\n",
    "\n",
    "    @staticmethod\n",
    "    def measure_accuracy(predicted_label, test_label):\n",
    "        accuracy = accuracy_score(predicted_label, test_label)\n",
    "        print(\"Accuracy score:\", accuracy)"
   ]
  },
  {
   "cell_type": "markdown",
   "metadata": {},
   "source": [
    "# KNN Classifier"
   ]
  },
  {
   "cell_type": "code",
   "execution_count": 7,
   "metadata": {},
   "outputs": [
    {
     "name": "stdout",
     "output_type": "stream",
     "text": [
      "Training time: 0.002274036407470703 seconds\n"
     ]
    }
   ],
   "source": [
    "knn_model = Model(model_type='knn', n_neighbors=3, algorithm=\"auto\")\n",
    "clf = knn_model.train(features_train, labels_train)"
   ]
  },
  {
   "cell_type": "code",
   "execution_count": 8,
   "metadata": {},
   "outputs": [
    {
     "name": "stdout",
     "output_type": "stream",
     "text": [
      "Predicted Labels [0. 1. 1. 0. 1. 1. 1. 1. 0. 1. 1. 1. 1. 0. 0. 1. 0. 1. 0. 1. 1. 1. 0. 1.\n",
      " 1. 0. 1. 1. 1. 0. 1. 1. 1. 1. 0. 1. 1. 0. 1. 0. 1. 0. 1. 1. 1. 0. 1. 1.\n",
      " 0. 1. 0. 1. 0. 1. 1. 0. 1. 0. 1. 1. 1. 1. 1. 1. 0. 1. 1. 0. 1. 0. 1. 1.\n",
      " 1. 1. 1. 0. 1. 0. 1. 1. 1. 1. 1. 1. 1. 1. 0. 0. 0. 1. 0. 1. 1. 1. 1. 1.\n",
      " 1. 0. 0. 0. 1. 0. 0. 1. 1. 1. 1. 0. 1. 1. 1. 1. 0. 1. 0. 0. 0. 0. 0. 0.\n",
      " 1. 1. 0. 0. 1. 1. 1. 1. 0. 1. 0. 1. 1. 1. 1. 0. 1. 0. 1. 0. 0. 0. 1. 1.\n",
      " 0. 1. 1. 0. 1. 0. 1. 1. 1. 0. 0. 1. 0. 1. 0. 1. 1. 1. 0. 1. 1. 0. 1. 1.\n",
      " 0. 1. 1. 1. 1. 1. 0. 0. 1. 1. 1. 1. 1. 1. 0. 0. 0. 1. 1. 1. 1. 0. 1. 1.\n",
      " 1. 1. 1. 0. 1. 0. 1. 1. 1. 1. 1. 1. 1. 1. 0. 1. 1. 1. 1. 0. 1. 1. 0. 0.\n",
      " 0. 1. 0. 1. 0. 1. 1. 1. 1. 1. 0. 1. 0. 0. 0. 1. 0. 1. 0. 1. 1. 0. 0. 1.\n",
      " 0. 0. 0. 1. 1. 0. 1. 1. 1. 1.]\n",
      "Time to predict: 0.016253232955932617 seconds\n",
      "Accuracy score: 0.936\n"
     ]
    }
   ],
   "source": [
    "predicted = knn_model.predict(features_test)\n",
    "Model.measure_accuracy(predicted, labels_test)"
   ]
  },
  {
   "cell_type": "code",
   "execution_count": 9,
   "metadata": {},
   "outputs": [
    {
     "name": "stderr",
     "output_type": "stream",
     "text": [
      "/mnt/data/data-gpu/asrul_workspace/belajar/ud120/05-choose-your-own/class_vis.py:25: MatplotlibDeprecationWarning: shading='flat' when X and Y have the same dimensions as C is deprecated since 3.3.  Either specify the corners of the quadrilaterals with X and Y, or pass shading='auto', 'nearest' or 'gouraud', or set rcParams['pcolor.shading'].  This will become an error two minor releases later.\n",
      "  plt.pcolormesh(xx, yy, Z, cmap='seismic')\n"
     ]
    },
    {
     "data": {
      "image/png": "[encoded data removed]",
      "text/plain": [
       "<Figure size 432x288 with 1 Axes>"
      ]
     },
     "metadata": {
      "needs_background": "light"
     },
     "output_type": "display_data"
    }
   ],
   "source": [
    "try:\n",
    "    pretty_picture(clf, features_test, labels_test, 'knn.jpg')\n",
    "except NameError:\n",
    "    pass"
   ]
  },
  {
   "cell_type": "markdown",
   "metadata": {},
   "source": [
    "# Ensemble: Random Forest Classifier"
   ]
  },
  {
   "cell_type": "code",
   "execution_count": null,
   "metadata": {},
   "outputs": [],
   "source": [
    "rfc_model = Model(model_type='rfc', n_neighbors=3, algorithm=\"auto\")\n",
    "clf_rfc = rfc_model.train(features_train, labels_train)"
   ]
  },
  {
   "cell_type": "code",
   "execution_count": null,
   "metadata": {},
   "outputs": [],
   "source": [
    "predicted_rfc = rfc_model.predict(features_test)\n",
    "Model.measure_accuracy(predicted_rfc, labels_test)"
   ]
  },
  {
   "cell_type": "code",
   "execution_count": null,
   "metadata": {},
   "outputs": [],
   "source": [
    "try:\n",
    "    pretty_picture(clf_rfc, features_test, labels_test, 'knn.jpg')\n",
    "except NameError:\n",
    "    pass"
   ]
  }
 ],
 "metadata": {
  "kernelspec": {
   "display_name": "Python 3",
   "language": "python",
   "name": "python3"
  },
  "language_info": {
   "codemirror_mode": {
    "name": "ipython",
    "version": 3
   },
   "file_extension": ".py",
   "mimetype": "text/x-python",
   "name": "python",
   "nbconvert_exporter": "python",
   "pygments_lexer": "ipython3",
   "version": "3.8.5"
  }
 },
 "nbformat": 4,
 "nbformat_minor": 4
}
