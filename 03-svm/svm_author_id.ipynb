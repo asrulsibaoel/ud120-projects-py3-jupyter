{
 "cells": [
  {
   "cell_type": "markdown",
   "metadata": {},
   "source": [
    "# This is the code to accompany the Lesson 2 (SVM) mini-project\n",
    "\n",
    "### Use a SVM to identify emails from the Enron corpus by their authors\n",
    "\n",
    "authors and labels:\n",
    "- Sara has label `0`\n",
    "- Chris has label `1`"
   ]
  },
  {
   "cell_type": "code",
   "execution_count": 27,
   "metadata": {},
   "outputs": [],
   "source": [
    "import sys\n",
    "from time import time\n",
    "sys.path.append('../utils/')\n",
    "\n",
    "from email_preprocess import preprocess"
   ]
  },
  {
   "cell_type": "markdown",
   "metadata": {},
   "source": [
    "- `features_train` and `features_test` are the features for the training and testing datasets, respectively\n",
    "- `labels_train` and `labels_test` are the corresponding item labels"
   ]
  },
  {
   "cell_type": "code",
   "execution_count": 45,
   "metadata": {},
   "outputs": [
    {
     "name": "stdout",
     "output_type": "stream",
     "text": [
      "no. of Chris training emails: 7936\n",
      "no. of Sara training emails: 7884\n"
     ]
    }
   ],
   "source": [
    "features_train, features_test, labels_train, labels_test = preprocess()"
   ]
  },
  {
   "cell_type": "code",
   "execution_count": 29,
   "metadata": {},
   "outputs": [],
   "source": [
    "features_train = features_train[:int(len(features_train)/100)]\n",
    "labels_train = labels_train[:int(len(labels_train)/100)]"
   ]
  },
  {
   "cell_type": "markdown",
   "metadata": {},
   "source": [
    "## ↓↓↓ Your Code Goes Here ↓↓↓"
   ]
  },
  {
   "cell_type": "code",
   "execution_count": 31,
   "metadata": {},
   "outputs": [],
   "source": [
    "from sklearn.svm import SVC\n",
    "import time\n",
    "\n",
    "def train_model(train_x, train_y, gamma:str = 'auto', c: float = 10.0):\n",
    "    clf = SVC(kernel='rbf', gamma=gamma, C=c)\n",
    "    t0 = time.time()\n",
    "    clf.fit(train_x, train_y)\n",
    "    t1 = time.time()\n",
    "\n",
    "    print(\"Training time:\", t1 - t0, \"seconds\")\n",
    "    \n",
    "    return clf"
   ]
  },
  {
   "cell_type": "code",
   "execution_count": 35,
   "metadata": {},
   "outputs": [],
   "source": [
    "def predict(model, data):\n",
    "    t0 = time.time()\n",
    "    prediction = model.predict(data)\n",
    "    t1 = time.time()\n",
    "    print(\"Predicted Labels\", prediction)\n",
    "    print(\"Time to predict:\", t1 - t0, \"seconds\")\n",
    "    return prediction"
   ]
  },
  {
   "cell_type": "code",
   "execution_count": 36,
   "metadata": {},
   "outputs": [],
   "source": [
    "from sklearn.metrics import accuracy_score\n",
    "\n",
    "def measure_accuracy(predicted_label, test_label):\n",
    "    accuracy = accuracy_score(predicted_label, test_label)\n",
    "    print(\"Accuracy score:\", accuracy)"
   ]
  },
  {
   "cell_type": "code",
   "execution_count": 41,
   "metadata": {},
   "outputs": [
    {
     "name": "stdout",
     "output_type": "stream",
     "text": [
      "Training time: 0.04289889335632324 seconds\n",
      "Predicted Labels [0 1 1 ... 1 1 1]\n",
      "Time to predict: 0.921877384185791 seconds\n",
      "Accuracy score: 0.6160409556313993\n"
     ]
    }
   ],
   "source": [
    "# 10.0\n",
    "\n",
    "model_10 = train_model(train_x=features_train, train_y=labels_train, c=10.0)\n",
    "predicted = predict(model_10, features_test)\n",
    "measure_accuracy(predicted, labels_test)"
   ]
  },
  {
   "cell_type": "code",
   "execution_count": 42,
   "metadata": {},
   "outputs": [
    {
     "name": "stdout",
     "output_type": "stream",
     "text": [
      "Training time: 0.03826308250427246 seconds\n",
      "Predicted Labels [0 1 1 ... 1 1 1]\n",
      "Time to predict: 0.9134955406188965 seconds\n",
      "Accuracy score: 0.6160409556313993\n"
     ]
    }
   ],
   "source": [
    "# 100.\n",
    "\n",
    "model_10 = train_model(train_x=features_train, train_y=labels_train, c=100.0)\n",
    "predicted = predict(model_10, features_test)\n",
    "measure_accuracy(predicted, labels_test)"
   ]
  },
  {
   "cell_type": "code",
   "execution_count": 43,
   "metadata": {},
   "outputs": [
    {
     "name": "stdout",
     "output_type": "stream",
     "text": [
      "Training time: 0.038791656494140625 seconds\n",
      "Predicted Labels [0 1 1 ... 1 0 1]\n",
      "Time to predict: 0.8405263423919678 seconds\n",
      "Accuracy score: 0.8213879408418657\n"
     ]
    }
   ],
   "source": [
    "# 1000.\n",
    "\n",
    "model_10 = train_model(train_x=features_train, train_y=labels_train, c=1000.0)\n",
    "predicted = predict(model_10, features_test)\n",
    "measure_accuracy(predicted, labels_test)"
   ]
  },
  {
   "cell_type": "code",
   "execution_count": 46,
   "metadata": {},
   "outputs": [
    {
     "name": "stdout",
     "output_type": "stream",
     "text": [
      "Training time: 86.09338116645813 seconds\n",
      "Predicted Labels [0 0 1 ... 1 0 0]\n",
      "Time to predict: 10.95873475074768 seconds\n",
      "Accuracy score: 0.9908987485779295\n"
     ]
    }
   ],
   "source": [
    "# 10000.\n",
    "\n",
    "model_10 = train_model(train_x=features_train, train_y=labels_train, c=10000.0)\n",
    "predicted = predict(model_10, features_test)\n",
    "measure_accuracy(predicted, labels_test)"
   ]
  },
  {
   "cell_type": "code",
   "execution_count": 48,
   "metadata": {},
   "outputs": [
    {
     "name": "stdout",
     "output_type": "stream",
     "text": [
      "10: 1\n",
      "26: 0\n",
      "50: 1\n"
     ]
    }
   ],
   "source": [
    "print(\"10:\", predicted[10])\n",
    "print(\"26:\", predicted[26])\n",
    "print(\"50:\", predicted[50])"
   ]
  },
  {
   "cell_type": "code",
   "execution_count": null,
   "metadata": {},
   "outputs": [],
   "source": []
  }
 ],
 "metadata": {
  "kernelspec": {
   "display_name": "Python 3",
   "language": "python",
   "name": "python3"
  },
  "language_info": {
   "codemirror_mode": {
    "name": "ipython",
    "version": 3
   },
   "file_extension": ".py",
   "mimetype": "text/x-python",
   "name": "python",
   "nbconvert_exporter": "python",
   "pygments_lexer": "ipython3",
   "version": "3.8.5"
  }
 },
 "nbformat": 4,
 "nbformat_minor": 4
}
