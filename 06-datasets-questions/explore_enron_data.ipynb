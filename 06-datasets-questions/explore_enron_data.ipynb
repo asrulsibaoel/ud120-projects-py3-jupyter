{
 "cells": [
  {
   "cell_type": "markdown",
   "metadata": {},
   "source": [
    "# Starter code for exploring the Enron dataset (emails + finances)\n",
    "\n",
    "Loads up the dataset (pickled dict of dicts)\n",
    "\n",
    "The dataset has the form: `enron_data[\"LASTNAME FIRSTNAME MIDDLEINITIAL\"] = { features_dict }`\n",
    "\n",
    "`{features_dict}` is a dictionary of features associated with that person.\n",
    "\n",
    "You should explore `features_dict` as part of the mini-project, but here's an example to get you started:\n",
    "\n",
    "`enron_data[\"SKILLING JEFFREY K\"][\"bonus\"] = 5600000`"
   ]
  },
  {
   "cell_type": "code",
   "execution_count": 1,
   "metadata": {},
   "outputs": [],
   "source": [
    "import pickle\n",
    "\n",
    "with open('../17-final-project/final_project_dataset.pkl', 'rb') as f:\n",
    "    enron_data = pickle.load(f)"
   ]
  },
  {
   "cell_type": "markdown",
   "metadata": {},
   "source": [
    "## ↓↓↓ Your Code Goes Here ↓↓↓"
   ]
  },
  {
   "cell_type": "code",
   "execution_count": 83,
   "metadata": {},
   "outputs": [
    {
     "data": {
      "text/plain": [
       "dict_keys(['METTS MARK', 'BAXTER JOHN C', 'ELLIOTT STEVEN', 'CORDES WILLIAM R', 'HANNON KEVIN P', 'MORDAUNT KRISTINA M', 'MEYER ROCKFORD G', 'MCMAHON JEFFREY', 'HAEDICKE MARK E', 'PIPER GREGORY F', 'HUMPHREY GENE E', 'NOLES JAMES L', 'BLACHMAN JEREMY M', 'SUNDE MARTIN', 'GIBBS DANA R', 'LOWRY CHARLES P', 'COLWELL WESLEY', 'MULLER MARK S', 'JACKSON CHARLENE R', 'WESTFAHL RICHARD K', 'WALTERS GARETH W', 'WALLS JR ROBERT H', 'KITCHEN LOUISE', 'CHAN RONNIE', 'BELFER ROBERT', 'SHANKMAN JEFFREY A', 'WODRASKA JOHN', 'BERGSIEKER RICHARD P', 'URQUHART JOHN A', 'BIBI PHILIPPE A', 'RIEKER PAULA H', 'WHALEY DAVID A', 'BECK SALLY W', 'HAUG DAVID L', 'ECHOLS JOHN B', 'MENDELSOHN JOHN', 'HICKERSON GARY J', 'CLINE KENNETH W', 'LEWIS RICHARD', 'HAYES ROBERT E', 'KOPPER MICHAEL J', 'LEFF DANIEL P', 'LAVORATO JOHN J', 'BERBERIAN DAVID', 'DETMERING TIMOTHY J', 'WAKEHAM JOHN', 'POWERS WILLIAM', 'GOLD JOSEPH', 'BANNANTINE JAMES M', 'DUNCAN JOHN H', 'SHAPIRO RICHARD S', 'SHERRIFF JOHN R', 'SHELBY REX', 'LEMAISTRE CHARLES', 'DEFFNER JOSEPH M', 'KISHKILL JOSEPH G', 'WHALLEY LAWRENCE G', 'MCCONNELL MICHAEL S', 'PIRO JIM', 'DELAINEY DAVID W', 'SULLIVAN-SHAKLOVITZ COLLEEN', 'WROBEL BRUCE', 'LINDHOLM TOD A', 'MEYER JEROME J', 'LAY KENNETH L', 'BUTTS ROBERT H', 'OLSON CINDY K', 'MCDONALD REBECCA', 'CUMBERLAND MICHAEL S', 'GAHN ROBERT S', 'BADUM JAMES P', 'HERMANN ROBERT J', 'FALLON JAMES B', 'GATHMANN WILLIAM D', 'HORTON STANLEY C', 'BOWEN JR RAYMOND M', 'GILLIS JOHN', 'FITZGERALD JAY L', 'MORAN MICHAEL P', 'REDMOND BRIAN L', 'BAZELIDES PHILIP J', 'BELDEN TIMOTHY N', 'DIMICHELE RICHARD G', 'DURAN WILLIAM D', 'THORN TERENCE H', 'FASTOW ANDREW S', 'FOY JOE', 'CALGER CHRISTOPHER F', 'RICE KENNETH D', 'KAMINSKI WINCENTY J', 'LOCKHART EUGENE E', 'COX DAVID', 'OVERDYKE JR JERE C', 'PEREIRA PAULO V. FERRAZ', 'STABLER FRANK', 'SKILLING JEFFREY K', 'BLAKE JR. NORMAN P', 'SHERRICK JEFFREY B', 'PRENTICE JAMES', 'GRAY RODNEY', 'THE TRAVEL AGENCY IN THE PARK', 'UMANOFF ADAM S', 'KEAN STEVEN J', 'TOTAL', 'FOWLER PEGGY', 'WASAFF GEORGE', 'WHITE JR THOMAS E', 'CHRISTODOULOU DIOMEDES', 'ALLEN PHILLIP K', 'SHARP VICTORIA T', 'JAEDICKE ROBERT', 'WINOKUR JR. HERBERT S', 'BROWN MICHAEL', 'MCCLELLAN GEORGE', 'HUGHES JAMES A', 'REYNOLDS LAWRENCE', 'PICKERING MARK R', 'BHATNAGAR SANJAY', 'CARTER REBECCA C', 'BUCHANAN HAROLD G', 'YEAP SOON', 'MURRAY JULIA H', 'GARLAND C KEVIN', 'DODSON KEITH', 'YEAGER F SCOTT', 'HIRKO JOSEPH', 'DIETRICH JANET R', 'DERRICK JR. JAMES V', 'FREVERT MARK A', 'PAI LOU L', 'HAYSLETT RODERICK J', 'BAY FRANKLIN R', 'MCCARTY DANNY J', 'FUGH JOHN L', 'SCRIMSHAW MATTHEW', 'KOENIG MARK E', 'SAVAGE FRANK', 'IZZO LAWRENCE L', 'TILNEY ELIZABETH A', 'MARTIN AMANDA K', 'BUY RICHARD B', 'GRAMM WENDY L', 'CAUSEY RICHARD A', 'TAYLOR MITCHELL S', 'DONAHUE JR JEFFREY M', 'GLISAN JR BEN F'])"
      ]
     },
     "execution_count": 83,
     "metadata": {},
     "output_type": "execute_result"
    }
   ],
   "source": [
    "enron_data.keys() # employee names"
   ]
  },
  {
   "cell_type": "code",
   "execution_count": 6,
   "metadata": {},
   "outputs": [
    {
     "data": {
      "text/plain": [
       "146"
      ]
     },
     "execution_count": 6,
     "metadata": {},
     "output_type": "execute_result"
    }
   ],
   "source": [
    "len(enron_data.keys())  # data keys"
   ]
  },
  {
   "cell_type": "code",
   "execution_count": 12,
   "metadata": {},
   "outputs": [
    {
     "data": {
      "text/plain": [
       "dict_keys(['salary', 'to_messages', 'deferral_payments', 'total_payments', 'loan_advances', 'bonus', 'email_address', 'restricted_stock_deferred', 'deferred_income', 'total_stock_value', 'expenses', 'from_poi_to_this_person', 'exercised_stock_options', 'from_messages', 'other', 'from_this_person_to_poi', 'poi', 'long_term_incentive', 'shared_receipt_with_poi', 'restricted_stock', 'director_fees'])"
      ]
     },
     "execution_count": 12,
     "metadata": {},
     "output_type": "execute_result"
    }
   ],
   "source": [
    "enron_data['METTS MARK'].keys()"
   ]
  },
  {
   "cell_type": "code",
   "execution_count": 11,
   "metadata": {},
   "outputs": [
    {
     "data": {
      "text/plain": [
       "21"
      ]
     },
     "execution_count": 11,
     "metadata": {},
     "output_type": "execute_result"
    }
   ],
   "source": [
    "len(enron_data['METTS MARK'].keys()) # features"
   ]
  },
  {
   "cell_type": "code",
   "execution_count": 29,
   "metadata": {},
   "outputs": [
    {
     "data": {
      "text/plain": [
       "18"
      ]
     },
     "execution_count": 29,
     "metadata": {},
     "output_type": "execute_result"
    }
   ],
   "source": [
    "# POI\n",
    "poi = 0\n",
    "\n",
    "for key, val in enron_data.items():\n",
    "    poi += 1 if val['poi'] == 1 else 0\n",
    "\n",
    "poi"
   ]
  },
  {
   "cell_type": "code",
   "execution_count": 65,
   "metadata": {},
   "outputs": [
    {
     "data": {
      "text/plain": [
       "\"kenneth_lay@enron.netkenneth_lay@enron.comklay.enron@enron.comkenneth.lay@enron.comklay@enron.comlayk@enron.comchairman.ken@enron.comjeffreyskilling@yahoo.comjeff_skilling@enron.comjskilling@enron.comeffrey.skilling@enron.comskilling@enron.comjeffrey.k.skilling@enron.comjeff.skilling@enron.comkevin_a_howard.enronxgate.enron@enron.netkevin.howard@enron.comkevin.howard@enron.netkevin.howard@gcm.commichael.krautz@enron.comscott.yeager@enron.comsyeager@fyi-net.comscott_yeager@enron.netsyeager@flash.netjoe'.'hirko@enron.comjoe.hirko@enron.comrex.shelby@enron.comrex.shelby@enron.ntrex_shelby@enron.netjbrown@enron.comjames.brown@enron.comrick.causey@enron.comrichard.causey@enron.comrcausey@enron.comcalger@enron.comchris.calger@enron.comchristopher.calger@enron.comccalger@enron.comtim_despain.enronxgate.enron@enron.nettim.despain@enron.comkevin_hannon@enron.comkevin'.'hannon@enron.comkevin_hannon@enron.netkevin.hannon@enron.commkoenig@enron.commark.koenig@enron.comm..forney@enron.comken'.'rice@enron.comken.rice@enron.comken_rice@enron.comken_rice@enron.netpaula.rieker@enron.comprieker@enron.comandrew.fastow@enron.comlfastow@pdq.netandrew.s.fastow@enron.comlfastow@pop.pdq.netandy.fastow@enron.comdavid.w.delainey@enron.comdelainey.dave@enron.com'delainey@enron.comdavid.delainey@enron.com'david.delainey'@enron.comdave.delainey@enron.comdelainey'.'david@enron.comben.glisan@enron.combglisan@enron.comben_f_glisan@enron.comben'.'glisan@enron.comjeff.richter@enron.comjrichter@nwlink.comlawrencelawyer@aol.comlawyer'.'larry@enron.comlarry_lawyer@enron.comllawyer@enron.comlarry.lawyer@enron.comlawrence.lawyer@enron.comtbelden@enron.comtim.belden@enron.comtim_belden@pgn.comtbelden@ect.enron.commichael.kopper@enron.comdave.duncan@enron.comdave.duncan@cipco.orgduncan.dave@enron.comray.bowen@enron.comraymond.bowen@enron.com'bowen@enron.comwes.colwell@enron.comdan.boyle@enron.comcloehr@enron.comchris.loehr@enron.com\""
      ]
     },
     "execution_count": 65,
     "metadata": {},
     "output_type": "execute_result"
    }
   ],
   "source": [
    "# load text\n",
    "import sys\n",
    "from time import time\n",
    "sys.path.append('../17-final-project/')\n",
    "sys.path.append('../tools/')\n",
    "\n",
    "from poi_email_addresses import poiEmails\n",
    "poi_emails = \"\".join(poiEmails())\n",
    "poi_emails"
   ]
  },
  {
   "cell_type": "code",
   "execution_count": 71,
   "metadata": {},
   "outputs": [
    {
     "name": "stdout",
     "output_type": "stream",
     "text": [
      "6\n"
     ]
    }
   ],
   "source": [
    "print(poi_emails.count(\"lay\"))"
   ]
  },
  {
   "cell_type": "code",
   "execution_count": 78,
   "metadata": {},
   "outputs": [],
   "source": [
    "count_poi = 0\n",
    "with open('../17-final-project/poi_names.txt', 'rb') as file:\n",
    "    lines = file.read().splitlines()\n",
    "    lines = map(lambda x: x.decode('utf-8'), lines)\n",
    "    for line in lines:\n",
    "        if line.startswith(('(n) ', '(y) ')):\n",
    "            count_poi += 1"
   ]
  },
  {
   "cell_type": "code",
   "execution_count": 79,
   "metadata": {},
   "outputs": [
    {
     "data": {
      "text/plain": [
       "35"
      ]
     },
     "execution_count": 79,
     "metadata": {},
     "output_type": "execute_result"
    }
   ],
   "source": [
    "count_poi"
   ]
  },
  {
   "cell_type": "code",
   "execution_count": 84,
   "metadata": {},
   "outputs": [
    {
     "data": {
      "text/plain": [
       "1095040"
      ]
     },
     "execution_count": 84,
     "metadata": {},
     "output_type": "execute_result"
    }
   ],
   "source": [
    "# james prantice stock\n",
    "\n",
    "enron_data['PRENTICE JAMES']['total_stock_value']"
   ]
  },
  {
   "cell_type": "code",
   "execution_count": 86,
   "metadata": {},
   "outputs": [
    {
     "data": {
      "text/plain": [
       "11"
      ]
     },
     "execution_count": 86,
     "metadata": {},
     "output_type": "execute_result"
    }
   ],
   "source": [
    "enron_data['COLWELL WESLEY']['from_this_person_to_poi']"
   ]
  },
  {
   "cell_type": "code",
   "execution_count": 88,
   "metadata": {},
   "outputs": [
    {
     "data": {
      "text/plain": [
       "19250000"
      ]
     },
     "execution_count": 88,
     "metadata": {},
     "output_type": "execute_result"
    }
   ],
   "source": [
    "enron_data['SKILLING JEFFREY K']['exercised_stock_options']"
   ]
  },
  {
   "cell_type": "code",
   "execution_count": 92,
   "metadata": {},
   "outputs": [
    {
     "data": {
      "text/plain": [
       "103559793"
      ]
     },
     "execution_count": 92,
     "metadata": {},
     "output_type": "execute_result"
    }
   ],
   "source": [
    "enron_data['LAY KENNETH L']['total_payments']"
   ]
  },
  {
   "cell_type": "code",
   "execution_count": 93,
   "metadata": {},
   "outputs": [
    {
     "data": {
      "text/plain": [
       "2424083"
      ]
     },
     "execution_count": 93,
     "metadata": {},
     "output_type": "execute_result"
    }
   ],
   "source": [
    "enron_data['FASTOW ANDREW S']['total_payments']"
   ]
  },
  {
   "cell_type": "code",
   "execution_count": 95,
   "metadata": {},
   "outputs": [
    {
     "name": "stdout",
     "output_type": "stream",
     "text": [
      "95\n",
      "111\n"
     ]
    }
   ],
   "source": [
    "count_salary = 0\n",
    "count_email = 0\n",
    "for key in enron_data.keys():\n",
    "    if enron_data[key]['salary'] != 'NaN':\n",
    "        count_salary+=1\n",
    "    if enron_data[key]['email_address'] != 'NaN':\n",
    "        count_email+=1\n",
    "print(count_salary)\n",
    "print(count_email)"
   ]
  },
  {
   "cell_type": "code",
   "execution_count": 110,
   "metadata": {},
   "outputs": [
    {
     "name": "stdout",
     "output_type": "stream",
     "text": [
      "21\n",
      "0.14383561643835616\n"
     ]
    }
   ],
   "source": [
    "count_NaN_tp = 0\n",
    "for key in enron_data.keys():\n",
    "    if enron_data[key]['total_payments'] == 'NaN':\n",
    "        count_NaN_tp+=1\n",
    "print(count_NaN_tp)\n",
    "print(float(count_NaN_tp)/len(enron_data.keys()))"
   ]
  },
  {
   "cell_type": "code",
   "execution_count": 111,
   "metadata": {},
   "outputs": [
    {
     "name": "stdout",
     "output_type": "stream",
     "text": [
      "0\n",
      "0.0\n"
     ]
    }
   ],
   "source": [
    "count_NaN_poi = 0\n",
    "for key in enron_data.keys():\n",
    "    if enron_data[key]['total_payments'] == 'NaN' and enron_data[key]['poi'] == True :\n",
    "        count_NaN_poi+=1\n",
    "print(count_NaN_poi)\n",
    "print(float(count_NaN_poi)/len(enron_data.keys()))"
   ]
  }
 ],
 "metadata": {
  "kernelspec": {
   "display_name": "Python 3",
   "language": "python",
   "name": "python3"
  },
  "language_info": {
   "codemirror_mode": {
    "name": "ipython",
    "version": 3
   },
   "file_extension": ".py",
   "mimetype": "text/x-python",
   "name": "python",
   "nbconvert_exporter": "python",
   "pygments_lexer": "ipython3",
   "version": "3.8.5"
  }
 },
 "nbformat": 4,
 "nbformat_minor": 4
}
